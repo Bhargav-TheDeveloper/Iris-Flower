{
 "cells": [
  {
   "cell_type": "code",
   "execution_count": 1,
   "id": "3572a34b",
   "metadata": {},
   "outputs": [],
   "source": [
    "import numpy as np\n",
    "import pandas as pd\n",
    "import matplotlib.pyplot as plt\n",
    "import seaborn as sns"
   ]
  },
  {
   "cell_type": "code",
   "execution_count": 2,
   "id": "f8a3b9e8",
   "metadata": {},
   "outputs": [
    {
     "data": {
      "text/html": [
       "<div>\n",
       "<style scoped>\n",
       "    .dataframe tbody tr th:only-of-type {\n",
       "        vertical-align: middle;\n",
       "    }\n",
       "\n",
       "    .dataframe tbody tr th {\n",
       "        vertical-align: top;\n",
       "    }\n",
       "\n",
       "    .dataframe thead th {\n",
       "        text-align: right;\n",
       "    }\n",
       "</style>\n",
       "<table border=\"1\" class=\"dataframe\">\n",
       "  <thead>\n",
       "    <tr style=\"text-align: right;\">\n",
       "      <th></th>\n",
       "      <th>Date</th>\n",
       "      <th>Open</th>\n",
       "      <th>High</th>\n",
       "      <th>Low</th>\n",
       "      <th>Last</th>\n",
       "      <th>Close</th>\n",
       "      <th>Total Trade Quantity</th>\n",
       "      <th>Turnover (Lacs)</th>\n",
       "    </tr>\n",
       "  </thead>\n",
       "  <tbody>\n",
       "    <tr>\n",
       "      <th>0</th>\n",
       "      <td>28-09-2018</td>\n",
       "      <td>234.05</td>\n",
       "      <td>235.95</td>\n",
       "      <td>230.20</td>\n",
       "      <td>233.50</td>\n",
       "      <td>233.75</td>\n",
       "      <td>3069914</td>\n",
       "      <td>7162.35</td>\n",
       "    </tr>\n",
       "    <tr>\n",
       "      <th>1</th>\n",
       "      <td>27-09-2018</td>\n",
       "      <td>234.55</td>\n",
       "      <td>236.80</td>\n",
       "      <td>231.10</td>\n",
       "      <td>233.80</td>\n",
       "      <td>233.25</td>\n",
       "      <td>5082859</td>\n",
       "      <td>11859.95</td>\n",
       "    </tr>\n",
       "    <tr>\n",
       "      <th>2</th>\n",
       "      <td>26-09-2018</td>\n",
       "      <td>240.00</td>\n",
       "      <td>240.00</td>\n",
       "      <td>232.50</td>\n",
       "      <td>235.00</td>\n",
       "      <td>234.25</td>\n",
       "      <td>2240909</td>\n",
       "      <td>5248.60</td>\n",
       "    </tr>\n",
       "    <tr>\n",
       "      <th>3</th>\n",
       "      <td>25-09-2018</td>\n",
       "      <td>233.30</td>\n",
       "      <td>236.75</td>\n",
       "      <td>232.00</td>\n",
       "      <td>236.25</td>\n",
       "      <td>236.10</td>\n",
       "      <td>2349368</td>\n",
       "      <td>5503.90</td>\n",
       "    </tr>\n",
       "    <tr>\n",
       "      <th>4</th>\n",
       "      <td>24-09-2018</td>\n",
       "      <td>233.55</td>\n",
       "      <td>239.20</td>\n",
       "      <td>230.75</td>\n",
       "      <td>234.00</td>\n",
       "      <td>233.30</td>\n",
       "      <td>3423509</td>\n",
       "      <td>7999.55</td>\n",
       "    </tr>\n",
       "  </tbody>\n",
       "</table>\n",
       "</div>"
      ],
      "text/plain": [
       "         Date    Open    High     Low    Last   Close  Total Trade Quantity  \\\n",
       "0  28-09-2018  234.05  235.95  230.20  233.50  233.75               3069914   \n",
       "1  27-09-2018  234.55  236.80  231.10  233.80  233.25               5082859   \n",
       "2  26-09-2018  240.00  240.00  232.50  235.00  234.25               2240909   \n",
       "3  25-09-2018  233.30  236.75  232.00  236.25  236.10               2349368   \n",
       "4  24-09-2018  233.55  239.20  230.75  234.00  233.30               3423509   \n",
       "\n",
       "   Turnover (Lacs)  \n",
       "0          7162.35  \n",
       "1         11859.95  \n",
       "2          5248.60  \n",
       "3          5503.90  \n",
       "4          7999.55  "
      ]
     },
     "execution_count": 2,
     "metadata": {},
     "output_type": "execute_result"
    }
   ],
   "source": [
    "df = pd.read_csv(\"Data.csv\")\n",
    "df.head()"
   ]
  },
  {
   "cell_type": "code",
   "execution_count": 3,
   "id": "cea0d030",
   "metadata": {},
   "outputs": [
    {
     "data": {
      "text/html": [
       "<div>\n",
       "<style scoped>\n",
       "    .dataframe tbody tr th:only-of-type {\n",
       "        vertical-align: middle;\n",
       "    }\n",
       "\n",
       "    .dataframe tbody tr th {\n",
       "        vertical-align: top;\n",
       "    }\n",
       "\n",
       "    .dataframe thead th {\n",
       "        text-align: right;\n",
       "    }\n",
       "</style>\n",
       "<table border=\"1\" class=\"dataframe\">\n",
       "  <thead>\n",
       "    <tr style=\"text-align: right;\">\n",
       "      <th></th>\n",
       "      <th>Open</th>\n",
       "      <th>High</th>\n",
       "      <th>Low</th>\n",
       "      <th>Last</th>\n",
       "      <th>Close</th>\n",
       "      <th>Total Trade Quantity</th>\n",
       "      <th>Turnover (Lacs)</th>\n",
       "    </tr>\n",
       "  </thead>\n",
       "  <tbody>\n",
       "    <tr>\n",
       "      <th>count</th>\n",
       "      <td>2035.000000</td>\n",
       "      <td>2035.000000</td>\n",
       "      <td>2035.000000</td>\n",
       "      <td>2035.000000</td>\n",
       "      <td>2035.00000</td>\n",
       "      <td>2.035000e+03</td>\n",
       "      <td>2035.000000</td>\n",
       "    </tr>\n",
       "    <tr>\n",
       "      <th>mean</th>\n",
       "      <td>149.713735</td>\n",
       "      <td>151.992826</td>\n",
       "      <td>147.293931</td>\n",
       "      <td>149.474251</td>\n",
       "      <td>149.45027</td>\n",
       "      <td>2.335681e+06</td>\n",
       "      <td>3899.980565</td>\n",
       "    </tr>\n",
       "    <tr>\n",
       "      <th>std</th>\n",
       "      <td>48.664509</td>\n",
       "      <td>49.413109</td>\n",
       "      <td>47.931958</td>\n",
       "      <td>48.732570</td>\n",
       "      <td>48.71204</td>\n",
       "      <td>2.091778e+06</td>\n",
       "      <td>4570.767877</td>\n",
       "    </tr>\n",
       "    <tr>\n",
       "      <th>min</th>\n",
       "      <td>81.100000</td>\n",
       "      <td>82.800000</td>\n",
       "      <td>80.000000</td>\n",
       "      <td>81.000000</td>\n",
       "      <td>80.95000</td>\n",
       "      <td>3.961000e+04</td>\n",
       "      <td>37.040000</td>\n",
       "    </tr>\n",
       "    <tr>\n",
       "      <th>25%</th>\n",
       "      <td>120.025000</td>\n",
       "      <td>122.100000</td>\n",
       "      <td>118.300000</td>\n",
       "      <td>120.075000</td>\n",
       "      <td>120.05000</td>\n",
       "      <td>1.146444e+06</td>\n",
       "      <td>1427.460000</td>\n",
       "    </tr>\n",
       "    <tr>\n",
       "      <th>50%</th>\n",
       "      <td>141.500000</td>\n",
       "      <td>143.400000</td>\n",
       "      <td>139.600000</td>\n",
       "      <td>141.100000</td>\n",
       "      <td>141.25000</td>\n",
       "      <td>1.783456e+06</td>\n",
       "      <td>2512.030000</td>\n",
       "    </tr>\n",
       "    <tr>\n",
       "      <th>75%</th>\n",
       "      <td>157.175000</td>\n",
       "      <td>159.400000</td>\n",
       "      <td>155.150000</td>\n",
       "      <td>156.925000</td>\n",
       "      <td>156.90000</td>\n",
       "      <td>2.813594e+06</td>\n",
       "      <td>4539.015000</td>\n",
       "    </tr>\n",
       "    <tr>\n",
       "      <th>max</th>\n",
       "      <td>327.700000</td>\n",
       "      <td>328.750000</td>\n",
       "      <td>321.650000</td>\n",
       "      <td>325.950000</td>\n",
       "      <td>325.75000</td>\n",
       "      <td>2.919102e+07</td>\n",
       "      <td>55755.080000</td>\n",
       "    </tr>\n",
       "  </tbody>\n",
       "</table>\n",
       "</div>"
      ],
      "text/plain": [
       "              Open         High          Low         Last       Close  \\\n",
       "count  2035.000000  2035.000000  2035.000000  2035.000000  2035.00000   \n",
       "mean    149.713735   151.992826   147.293931   149.474251   149.45027   \n",
       "std      48.664509    49.413109    47.931958    48.732570    48.71204   \n",
       "min      81.100000    82.800000    80.000000    81.000000    80.95000   \n",
       "25%     120.025000   122.100000   118.300000   120.075000   120.05000   \n",
       "50%     141.500000   143.400000   139.600000   141.100000   141.25000   \n",
       "75%     157.175000   159.400000   155.150000   156.925000   156.90000   \n",
       "max     327.700000   328.750000   321.650000   325.950000   325.75000   \n",
       "\n",
       "       Total Trade Quantity  Turnover (Lacs)  \n",
       "count          2.035000e+03      2035.000000  \n",
       "mean           2.335681e+06      3899.980565  \n",
       "std            2.091778e+06      4570.767877  \n",
       "min            3.961000e+04        37.040000  \n",
       "25%            1.146444e+06      1427.460000  \n",
       "50%            1.783456e+06      2512.030000  \n",
       "75%            2.813594e+06      4539.015000  \n",
       "max            2.919102e+07     55755.080000  "
      ]
     },
     "execution_count": 3,
     "metadata": {},
     "output_type": "execute_result"
    }
   ],
   "source": [
    "df.describe()"
   ]
  },
  {
   "cell_type": "code",
   "execution_count": 4,
   "id": "1596574c",
   "metadata": {},
   "outputs": [
    {
     "name": "stdout",
     "output_type": "stream",
     "text": [
      "<class 'pandas.core.frame.DataFrame'>\n",
      "RangeIndex: 2035 entries, 0 to 2034\n",
      "Data columns (total 8 columns):\n",
      " #   Column                Non-Null Count  Dtype  \n",
      "---  ------                --------------  -----  \n",
      " 0   Date                  2035 non-null   object \n",
      " 1   Open                  2035 non-null   float64\n",
      " 2   High                  2035 non-null   float64\n",
      " 3   Low                   2035 non-null   float64\n",
      " 4   Last                  2035 non-null   float64\n",
      " 5   Close                 2035 non-null   float64\n",
      " 6   Total Trade Quantity  2035 non-null   int64  \n",
      " 7   Turnover (Lacs)       2035 non-null   float64\n",
      "dtypes: float64(6), int64(1), object(1)\n",
      "memory usage: 127.3+ KB\n"
     ]
    }
   ],
   "source": [
    "df.info()"
   ]
  },
  {
   "cell_type": "code",
   "execution_count": 5,
   "id": "cb1db54e",
   "metadata": {},
   "outputs": [
    {
     "data": {
      "text/plain": [
       "Date                    0\n",
       "Open                    0\n",
       "High                    0\n",
       "Low                     0\n",
       "Last                    0\n",
       "Close                   0\n",
       "Total Trade Quantity    0\n",
       "Turnover (Lacs)         0\n",
       "dtype: int64"
      ]
     },
     "execution_count": 5,
     "metadata": {},
     "output_type": "execute_result"
    }
   ],
   "source": [
    "df.isnull().sum()"
   ]
  },
  {
   "cell_type": "code",
   "execution_count": 6,
   "id": "94c1248d",
   "metadata": {},
   "outputs": [],
   "source": [
    "df1 = df.reset_index()[\"Close\"]"
   ]
  },
  {
   "cell_type": "code",
   "execution_count": 7,
   "id": "b75b5a1d",
   "metadata": {},
   "outputs": [
    {
     "data": {
      "text/plain": [
       "0       233.75\n",
       "1       233.25\n",
       "2       234.25\n",
       "3       236.10\n",
       "4       233.30\n",
       "         ...  \n",
       "2030    118.65\n",
       "2031    117.60\n",
       "2032    120.65\n",
       "2033    120.90\n",
       "2034    121.55\n",
       "Name: Close, Length: 2035, dtype: float64"
      ]
     },
     "execution_count": 7,
     "metadata": {},
     "output_type": "execute_result"
    }
   ],
   "source": [
    "df1"
   ]
  },
  {
   "cell_type": "code",
   "execution_count": 8,
   "id": "4ef9f2bd",
   "metadata": {},
   "outputs": [
    {
     "data": {
      "text/plain": [
       "Text(0.5, 1.0, 'Stacked index')"
      ]
     },
     "execution_count": 8,
     "metadata": {},
     "output_type": "execute_result"
    },
    {
     "data": {
      "image/png": "[encoded data removed]",
      "text/plain": [
       "<Figure size 432x288 with 1 Axes>"
      ]
     },
     "metadata": {
      "needs_background": "light"
     },
     "output_type": "display_data"
    }
   ],
   "source": [
    "plt.plot(df1)\n",
    "plt.title(\"Stacked index\")\n",
    "# plt.show()"
   ]
  },
  {
   "cell_type": "code",
   "execution_count": 9,
   "id": "9cb924d3",
   "metadata": {},
   "outputs": [],
   "source": [
    "from sklearn.preprocessing import MinMaxScaler\n",
    "scaler = MinMaxScaler(feature_range=(0,1))\n",
    "df1 = scaler.fit_transform(np.array(df1).reshape(-1,1))"
   ]
  },
  {
   "cell_type": "code",
   "execution_count": 10,
   "id": "a45c559f",
   "metadata": {},
   "outputs": [
    {
     "data": {
      "text/plain": [
       "array([[0.62418301],\n",
       "       [0.62214052],\n",
       "       [0.62622549],\n",
       "       ...,\n",
       "       [0.1621732 ],\n",
       "       [0.16319444],\n",
       "       [0.16584967]])"
      ]
     },
     "execution_count": 10,
     "metadata": {},
     "output_type": "execute_result"
    }
   ],
   "source": [
    "df1"
   ]
  },
  {
   "cell_type": "code",
   "execution_count": 11,
   "id": "bd619200",
   "metadata": {},
   "outputs": [
    {
     "data": {
      "text/plain": [
       "1322"
      ]
     },
     "execution_count": 11,
     "metadata": {},
     "output_type": "execute_result"
    }
   ],
   "source": [
    "training_size = int(len(df1)*0.65)\n",
    "test_size = len(df1)- training_size\n",
    "train_data, test_data = df1[0:training_size,:],df1[training_size:len(df1),:1]\n",
    "training_size"
   ]
  },
  {
   "cell_type": "code",
   "execution_count": 12,
   "id": "b4653a1c",
   "metadata": {},
   "outputs": [
    {
     "data": {
      "text/plain": [
       "713"
      ]
     },
     "execution_count": 12,
     "metadata": {},
     "output_type": "execute_result"
    }
   ],
   "source": [
    "test_size"
   ]
  },
  {
   "cell_type": "code",
   "execution_count": 13,
   "id": "8d4f2f96",
   "metadata": {},
   "outputs": [
    {
     "data": {
      "text/plain": [
       "array([[0.62418301],\n",
       "       [0.62214052],\n",
       "       [0.62622549],\n",
       "       [0.63378268],\n",
       "       [0.62234477]])"
      ]
     },
     "execution_count": 13,
     "metadata": {},
     "output_type": "execute_result"
    }
   ],
   "source": [
    "train_data[0:5]"
   ]
  },
  {
   "cell_type": "code",
   "execution_count": 14,
   "id": "b1a20b1b",
   "metadata": {},
   "outputs": [],
   "source": [
    "import numpy\n",
    "def create_dataset(dataset, time_step=1):\n",
    "    dataX, dataY = [], []\n",
    "    for i in range(len(dataset)-time_step-1):\n",
    "        a = dataset[i:(i+time_step), 0]   ###i=0, dataX:0,1,2,3-----99   dataY:100 \n",
    "        dataX.append(a)\n",
    "        dataY.append(dataset[i + time_step, 0])\n",
    "    return numpy.array(dataX), numpy.array(dataY)"
   ]
  },
  {
   "cell_type": "code",
   "execution_count": 15,
   "id": "de78a4b9",
   "metadata": {},
   "outputs": [
    {
     "name": "stdout",
     "output_type": "stream",
     "text": [
      "(1221, 100)\n",
      "(1221,)\n"
     ]
    },
    {
     "data": {
      "text/plain": [
       "(None, None)"
      ]
     },
     "execution_count": 15,
     "metadata": {},
     "output_type": "execute_result"
    }
   ],
   "source": [
    "time_step = 100\n",
    "X_train, y_train = create_dataset(train_data, time_step)\n",
    "X_test, ytest = create_dataset(test_data, time_step)\n",
    "print(X_train.shape), print(y_train.shape)"
   ]
  },
  {
   "cell_type": "code",
   "execution_count": 16,
   "id": "00348830",
   "metadata": {},
   "outputs": [
    {
     "name": "stdout",
     "output_type": "stream",
     "text": [
      "(612, 100)\n",
      "(612,)\n"
     ]
    },
    {
     "data": {
      "text/plain": [
       "(None, None)"
      ]
     },
     "execution_count": 16,
     "metadata": {},
     "output_type": "execute_result"
    }
   ],
   "source": [
    "print(X_test.shape), print(ytest.shape)"
   ]
  },
  {
   "cell_type": "code",
   "execution_count": 17,
   "id": "586ac8b3",
   "metadata": {},
   "outputs": [],
   "source": [
    "# Reshape input to be [samples, time steps, features] which is required for LSTM\n",
    "X_train =X_train.reshape(X_train.shape[0],X_train.shape[1] , 1)\n",
    "X_test = X_test.reshape(X_test.shape[0],X_test.shape[1] , 1)"
   ]
  },
  {
   "cell_type": "code",
   "execution_count": 18,
   "id": "d840a76f",
   "metadata": {},
   "outputs": [
    {
     "name": "stdout",
     "output_type": "stream",
     "text": [
      "Collecting tensorflow\n",
      "  Using cached tensorflow-2.9.1-cp310-cp310-win_amd64.whl (444.1 MB)\n",
      "Requirement already satisfied: six>=1.12.0 in c:\\users\\aksha\\appdata\\local\\programs\\python\\python310\\lib\\site-packages (from tensorflow) (1.16.0)\n",
      "Collecting typing-extensions>=3.6.6\n",
      "  Using cached typing_extensions-4.2.0-py3-none-any.whl (24 kB)\n",
      "Requirement already satisfied: numpy>=1.20 in c:\\users\\aksha\\appdata\\local\\programs\\python\\python310\\lib\\site-packages (from tensorflow) (1.22.4)\n",
      "Collecting keras<2.10.0,>=2.9.0rc0\n",
      "  Using cached keras-2.9.0-py2.py3-none-any.whl (1.6 MB)\n",
      "Collecting libclang>=13.0.0\n",
      "  Downloading libclang-14.0.1-py2.py3-none-win_amd64.whl (14.2 MB)\n",
      "     ---------------------------------------- 14.2/14.2 MB 3.7 MB/s eta 0:00:00\n",
      "Collecting keras-preprocessing>=1.1.1\n",
      "  Downloading Keras_Preprocessing-1.1.2-py2.py3-none-any.whl (42 kB)\n",
      "     -------------------------------------- 42.6/42.6 kB 688.1 kB/s eta 0:00:00\n",
      "Collecting protobuf<3.20,>=3.9.2\n",
      "  Downloading protobuf-3.19.4-cp310-cp310-win_amd64.whl (895 kB)\n",
      "     -------------------------------------- 895.5/895.5 kB 2.3 MB/s eta 0:00:00\n",
      "Collecting tensorflow-io-gcs-filesystem>=0.23.1\n",
      "  Downloading tensorflow_io_gcs_filesystem-0.26.0-cp310-cp310-win_amd64.whl (1.5 MB)\n",
      "     ---------------------------------------- 1.5/1.5 MB 5.1 MB/s eta 0:00:00\n",
      "Collecting h5py>=2.9.0\n",
      "  Downloading h5py-3.7.0-cp310-cp310-win_amd64.whl (2.6 MB)\n",
      "     ---------------------------------------- 2.6/2.6 MB 4.6 MB/s eta 0:00:00\n",
      "Collecting astunparse>=1.6.0\n",
      "  Downloading astunparse-1.6.3-py2.py3-none-any.whl (12 kB)\n",
      "Collecting flatbuffers<2,>=1.12\n",
      "  Downloading flatbuffers-1.12-py2.py3-none-any.whl (15 kB)\n",
      "Collecting termcolor>=1.1.0\n",
      "  Downloading termcolor-1.1.0.tar.gz (3.9 kB)\n",
      "  Preparing metadata (setup.py): started\n",
      "  Preparing metadata (setup.py): finished with status 'done'\n",
      "Collecting opt-einsum>=2.3.2\n",
      "  Using cached opt_einsum-3.3.0-py3-none-any.whl (65 kB)\n",
      "Collecting tensorflow-estimator<2.10.0,>=2.9.0rc0\n",
      "  Downloading tensorflow_estimator-2.9.0-py2.py3-none-any.whl (438 kB)\n",
      "     -------------------------------------- 438.7/438.7 kB 1.4 MB/s eta 0:00:00\n",
      "Collecting google-pasta>=0.1.1\n",
      "  Using cached google_pasta-0.2.0-py3-none-any.whl (57 kB)\n",
      "Collecting absl-py>=1.0.0\n",
      "  Using cached absl_py-1.1.0-py3-none-any.whl (123 kB)\n",
      "Requirement already satisfied: setuptools in c:\\users\\aksha\\appdata\\local\\programs\\python\\python310\\lib\\site-packages (from tensorflow) (58.1.0)\n",
      "Requirement already satisfied: packaging in c:\\users\\aksha\\appdata\\local\\programs\\python\\python310\\lib\\site-packages (from tensorflow) (21.3)\n",
      "Collecting wrapt>=1.11.0\n",
      "  Using cached wrapt-1.14.1-cp310-cp310-win_amd64.whl (35 kB)\n",
      "Collecting tensorboard<2.10,>=2.9\n",
      "  Downloading tensorboard-2.9.1-py3-none-any.whl (5.8 MB)\n",
      "     ---------------------------------------- 5.8/5.8 MB 5.2 MB/s eta 0:00:00\n",
      "Collecting grpcio<2.0,>=1.24.3\n",
      "  Downloading grpcio-1.46.3-cp310-cp310-win_amd64.whl (3.5 MB)\n",
      "     ---------------------------------------- 3.5/3.5 MB 6.4 MB/s eta 0:00:00\n",
      "Collecting gast<=0.4.0,>=0.2.1\n",
      "  Downloading gast-0.4.0-py3-none-any.whl (9.8 kB)\n",
      "Collecting wheel<1.0,>=0.23.0\n",
      "  Downloading wheel-0.37.1-py2.py3-none-any.whl (35 kB)\n",
      "Collecting tensorboard-data-server<0.7.0,>=0.6.0\n",
      "  Downloading tensorboard_data_server-0.6.1-py3-none-any.whl (2.4 kB)\n",
      "Collecting tensorboard-plugin-wit>=1.6.0\n",
      "  Downloading tensorboard_plugin_wit-1.8.1-py3-none-any.whl (781 kB)\n",
      "     -------------------------------------- 781.3/781.3 kB 4.9 MB/s eta 0:00:00\n",
      "Collecting werkzeug>=1.0.1\n",
      "  Downloading Werkzeug-2.1.2-py3-none-any.whl (224 kB)\n",
      "     -------------------------------------- 224.9/224.9 kB 1.5 MB/s eta 0:00:00\n",
      "Collecting google-auth<3,>=1.6.3\n",
      "  Downloading google_auth-2.8.0-py2.py3-none-any.whl (164 kB)\n",
      "     -------------------------------------- 164.2/164.2 kB 2.0 MB/s eta 0:00:00\n",
      "Requirement already satisfied: requests<3,>=2.21.0 in c:\\users\\aksha\\appdata\\local\\programs\\python\\python310\\lib\\site-packages (from tensorboard<2.10,>=2.9->tensorflow) (2.27.1)\n",
      "Collecting google-auth-oauthlib<0.5,>=0.4.1\n",
      "  Downloading google_auth_oauthlib-0.4.6-py2.py3-none-any.whl (18 kB)\n",
      "Collecting markdown>=2.6.8\n",
      "  Downloading Markdown-3.3.7-py3-none-any.whl (97 kB)\n",
      "     ---------------------------------------- 97.8/97.8 kB 1.9 MB/s eta 0:00:00\n",
      "Requirement already satisfied: pyparsing!=3.0.5,>=2.0.2 in c:\\users\\aksha\\appdata\\local\\programs\\python\\python310\\lib\\site-packages (from packaging->tensorflow) (3.0.7)\n",
      "Collecting rsa<5,>=3.1.4\n",
      "  Downloading rsa-4.8-py3-none-any.whl (39 kB)\n",
      "Collecting cachetools<6.0,>=2.0.0\n",
      "  Downloading cachetools-5.2.0-py3-none-any.whl (9.3 kB)\n",
      "Collecting pyasn1-modules>=0.2.1\n",
      "  Downloading pyasn1_modules-0.2.8-py2.py3-none-any.whl (155 kB)\n",
      "     -------------------------------------- 155.3/155.3 kB 2.3 MB/s eta 0:00:00\n",
      "Collecting requests-oauthlib>=0.7.0\n",
      "  Downloading requests_oauthlib-1.3.1-py2.py3-none-any.whl (23 kB)\n",
      "Requirement already satisfied: certifi>=2017.4.17 in c:\\users\\aksha\\appdata\\local\\programs\\python\\python310\\lib\\site-packages (from requests<3,>=2.21.0->tensorboard<2.10,>=2.9->tensorflow) (2021.10.8)\n",
      "Requirement already satisfied: idna<4,>=2.5 in c:\\users\\aksha\\appdata\\local\\programs\\python\\python310\\lib\\site-packages (from requests<3,>=2.21.0->tensorboard<2.10,>=2.9->tensorflow) (3.3)\n",
      "Requirement already satisfied: charset-normalizer~=2.0.0 in c:\\users\\aksha\\appdata\\local\\programs\\python\\python310\\lib\\site-packages (from requests<3,>=2.21.0->tensorboard<2.10,>=2.9->tensorflow) (2.0.12)\n",
      "Requirement already satisfied: urllib3<1.27,>=1.21.1 in c:\\users\\aksha\\appdata\\local\\programs\\python\\python310\\lib\\site-packages (from requests<3,>=2.21.0->tensorboard<2.10,>=2.9->tensorflow) (1.26.9)\n",
      "Collecting pyasn1<0.5.0,>=0.4.6\n",
      "  Downloading pyasn1-0.4.8-py2.py3-none-any.whl (77 kB)\n",
      "     ---------------------------------------- 77.1/77.1 kB 2.2 MB/s eta 0:00:00\n",
      "Collecting oauthlib>=3.0.0\n",
      "  Downloading oauthlib-3.2.0-py3-none-any.whl (151 kB)\n",
      "     -------------------------------------- 151.5/151.5 kB 3.0 MB/s eta 0:00:00\n",
      "Using legacy 'setup.py install' for termcolor, since package 'wheel' is not installed.\n",
      "Installing collected packages: termcolor, tensorboard-plugin-wit, pyasn1, libclang, keras, flatbuffers, wrapt, wheel, werkzeug, typing-extensions, tensorflow-io-gcs-filesystem, tensorflow-estimator, tensorboard-data-server, rsa, pyasn1-modules, protobuf, opt-einsum, oauthlib, markdown, keras-preprocessing, h5py, grpcio, google-pasta, gast, cachetools, absl-py, requests-oauthlib, google-auth, astunparse, google-auth-oauthlib, tensorboard, tensorflow\n",
      "  Running setup.py install for termcolor: started\n",
      "  Running setup.py install for termcolor: finished with status 'done'\n",
      "Successfully installed absl-py-1.1.0 astunparse-1.6.3 cachetools-5.2.0 flatbuffers-1.12 gast-0.4.0 google-auth-2.8.0 google-auth-oauthlib-0.4.6 google-pasta-0.2.0 grpcio-1.46.3 h5py-3.7.0 keras-2.9.0 keras-preprocessing-1.1.2 libclang-14.0.1 markdown-3.3.7 oauthlib-3.2.0 opt-einsum-3.3.0 protobuf-3.19.4 pyasn1-0.4.8 pyasn1-modules-0.2.8 requests-oauthlib-1.3.1 rsa-4.8 tensorboard-2.9.1 tensorboard-data-server-0.6.1 tensorboard-plugin-wit-1.8.1 tensorflow-2.9.1 tensorflow-estimator-2.9.0 tensorflow-io-gcs-filesystem-0.26.0 termcolor-1.1.0 typing-extensions-4.2.0 werkzeug-2.1.2 wheel-0.37.1 wrapt-1.14.1\n"
     ]
    }
   ],
   "source": [
    "!pip install tensorflow"
   ]
  },
  {
   "cell_type": "code",
   "execution_count": 19,
   "id": "97f95ced",
   "metadata": {},
   "outputs": [],
   "source": [
    "from tensorflow.keras.models import Sequential\n",
    "from tensorflow.keras.layers import Dense\n",
    "from tensorflow.keras.layers import LSTM"
   ]
  },
  {
   "cell_type": "code",
   "execution_count": 20,
   "id": "73e9200b",
   "metadata": {},
   "outputs": [],
   "source": [
    "model=Sequential()\n",
    "model.add(LSTM(50,return_sequences=True,input_shape=(100,1)))\n",
    "model.add(LSTM(50,return_sequences=True))\n",
    "model.add(LSTM(50))\n",
    "model.add(Dense(1))\n",
    "model.compile(loss='mean_squared_error',optimizer='adam')"
   ]
  },
  {
   "cell_type": "code",
   "execution_count": 21,
   "id": "e7acb0f5",
   "metadata": {},
   "outputs": [
    {
     "name": "stdout",
     "output_type": "stream",
     "text": [
      "Model: \"sequential\"\n",
      "_________________________________________________________________\n",
      " Layer (type)                Output Shape              Param #   \n",
      "=================================================================\n",
      " lstm (LSTM)                 (None, 100, 50)           10400     \n",
      "                                                                 \n",
      " lstm_1 (LSTM)               (None, 100, 50)           20200     \n",
      "                                                                 \n",
      " lstm_2 (LSTM)               (None, 50)                20200     \n",
      "                                                                 \n",
      " dense (Dense)               (None, 1)                 51        \n",
      "                                                                 \n",
      "=================================================================\n",
      "Total params: 50,851\n",
      "Trainable params: 50,851\n",
      "Non-trainable params: 0\n",
      "_________________________________________________________________\n"
     ]
    }
   ],
   "source": [
    "model.summary()"
   ]
  },
  {
   "cell_type": "code",
   "execution_count": 22,
   "id": "92ccb504",
   "metadata": {},
   "outputs": [
    {
     "name": "stdout",
     "output_type": "stream",
     "text": [
      "Epoch 1/100\n",
      "20/20 [==============================] - 19s 469ms/step - loss: 0.0247 - val_loss: 0.0046\n",
      "Epoch 2/100\n",
      "20/20 [==============================] - 7s 368ms/step - loss: 0.0031 - val_loss: 9.7055e-04\n",
      "Epoch 3/100\n",
      "20/20 [==============================] - 6s 300ms/step - loss: 0.0017 - val_loss: 9.6016e-04\n",
      "Epoch 4/100\n",
      "20/20 [==============================] - 6s 313ms/step - loss: 0.0017 - val_loss: 0.0011\n",
      "Epoch 5/100\n",
      "20/20 [==============================] - 6s 297ms/step - loss: 0.0017 - val_loss: 9.1268e-04\n",
      "Epoch 6/100\n",
      "20/20 [==============================] - 6s 312ms/step - loss: 0.0016 - val_loss: 8.5222e-04\n",
      "Epoch 7/100\n",
      "20/20 [==============================] - 6s 314ms/step - loss: 0.0024 - val_loss: 0.0018\n",
      "Epoch 8/100\n",
      "20/20 [==============================] - 6s 311ms/step - loss: 0.0024 - val_loss: 7.9348e-04\n",
      "Epoch 9/100\n",
      "20/20 [==============================] - 6s 310ms/step - loss: 0.0015 - val_loss: 0.0011\n",
      "Epoch 10/100\n",
      "20/20 [==============================] - 6s 294ms/step - loss: 0.0013 - val_loss: 9.5125e-04\n",
      "Epoch 11/100\n",
      "20/20 [==============================] - 6s 303ms/step - loss: 0.0012 - val_loss: 0.0013\n",
      "Epoch 12/100\n",
      "20/20 [==============================] - 6s 308ms/step - loss: 0.0014 - val_loss: 7.9138e-04\n",
      "Epoch 13/100\n",
      "20/20 [==============================] - 7s 335ms/step - loss: 0.0013 - val_loss: 9.7948e-04\n",
      "Epoch 14/100\n",
      "20/20 [==============================] - 7s 332ms/step - loss: 0.0012 - val_loss: 0.0011\n",
      "Epoch 15/100\n",
      "20/20 [==============================] - 7s 334ms/step - loss: 0.0011 - val_loss: 0.0011\n",
      "Epoch 16/100\n",
      "20/20 [==============================] - 6s 325ms/step - loss: 0.0011 - val_loss: 9.3335e-04\n",
      "Epoch 17/100\n",
      "20/20 [==============================] - 7s 329ms/step - loss: 0.0010 - val_loss: 7.0349e-04\n",
      "Epoch 18/100\n",
      "20/20 [==============================] - 6s 313ms/step - loss: 0.0012 - val_loss: 7.1724e-04\n",
      "Epoch 19/100\n",
      "20/20 [==============================] - 7s 341ms/step - loss: 0.0012 - val_loss: 7.5068e-04\n",
      "Epoch 20/100\n",
      "20/20 [==============================] - 7s 336ms/step - loss: 8.9202e-04 - val_loss: 7.2696e-04\n",
      "Epoch 21/100\n",
      "20/20 [==============================] - 7s 335ms/step - loss: 9.1386e-04 - val_loss: 0.0011\n",
      "Epoch 22/100\n",
      "20/20 [==============================] - 7s 338ms/step - loss: 9.4735e-04 - val_loss: 6.9490e-04\n",
      "Epoch 23/100\n",
      "20/20 [==============================] - 7s 337ms/step - loss: 8.6307e-04 - val_loss: 7.1149e-04\n",
      "Epoch 24/100\n",
      "20/20 [==============================] - 7s 341ms/step - loss: 8.1347e-04 - val_loss: 7.0017e-04\n",
      "Epoch 25/100\n",
      "20/20 [==============================] - 7s 336ms/step - loss: 8.0475e-04 - val_loss: 7.2710e-04\n",
      "Epoch 26/100\n",
      "20/20 [==============================] - 7s 341ms/step - loss: 7.7068e-04 - val_loss: 7.1570e-04\n",
      "Epoch 27/100\n",
      "20/20 [==============================] - 7s 334ms/step - loss: 8.1854e-04 - val_loss: 9.4451e-04\n",
      "Epoch 28/100\n",
      "20/20 [==============================] - 7s 339ms/step - loss: 8.0873e-04 - val_loss: 8.5993e-04\n",
      "Epoch 29/100\n",
      "20/20 [==============================] - 7s 337ms/step - loss: 8.1180e-04 - val_loss: 6.0731e-04\n",
      "Epoch 30/100\n",
      "20/20 [==============================] - 7s 334ms/step - loss: 7.1994e-04 - val_loss: 8.4457e-04\n",
      "Epoch 31/100\n",
      "20/20 [==============================] - 7s 338ms/step - loss: 7.8366e-04 - val_loss: 5.8968e-04\n",
      "Epoch 32/100\n",
      "20/20 [==============================] - 7s 335ms/step - loss: 7.2908e-04 - val_loss: 6.6809e-04\n",
      "Epoch 33/100\n",
      "20/20 [==============================] - 7s 337ms/step - loss: 7.0636e-04 - val_loss: 9.4486e-04\n",
      "Epoch 34/100\n",
      "20/20 [==============================] - 7s 336ms/step - loss: 6.6570e-04 - val_loss: 7.5235e-04\n",
      "Epoch 35/100\n",
      "20/20 [==============================] - 7s 339ms/step - loss: 6.6307e-04 - val_loss: 6.2558e-04\n",
      "Epoch 36/100\n",
      "20/20 [==============================] - 7s 336ms/step - loss: 6.4919e-04 - val_loss: 6.9153e-04\n",
      "Epoch 37/100\n",
      "20/20 [==============================] - 7s 337ms/step - loss: 6.8016e-04 - val_loss: 6.8279e-04\n",
      "Epoch 38/100\n",
      "20/20 [==============================] - 7s 338ms/step - loss: 6.3335e-04 - val_loss: 8.7023e-04\n",
      "Epoch 39/100\n",
      "20/20 [==============================] - 7s 337ms/step - loss: 6.2399e-04 - val_loss: 6.0238e-04\n",
      "Epoch 40/100\n",
      "20/20 [==============================] - 7s 342ms/step - loss: 8.5075e-04 - val_loss: 5.8967e-04\n",
      "Epoch 41/100\n",
      "20/20 [==============================] - 7s 340ms/step - loss: 6.7440e-04 - val_loss: 8.8924e-04\n",
      "Epoch 42/100\n",
      "20/20 [==============================] - 7s 337ms/step - loss: 6.9541e-04 - val_loss: 8.0038e-04\n",
      "Epoch 43/100\n",
      "20/20 [==============================] - 7s 337ms/step - loss: 6.0390e-04 - val_loss: 5.1673e-04\n",
      "Epoch 44/100\n",
      "20/20 [==============================] - 7s 336ms/step - loss: 5.8841e-04 - val_loss: 5.5279e-04\n",
      "Epoch 45/100\n",
      "20/20 [==============================] - 7s 335ms/step - loss: 5.6842e-04 - val_loss: 7.3261e-04\n",
      "Epoch 46/100\n",
      "20/20 [==============================] - 7s 333ms/step - loss: 5.7765e-04 - val_loss: 4.7948e-04\n",
      "Epoch 47/100\n",
      "20/20 [==============================] - 7s 333ms/step - loss: 5.6534e-04 - val_loss: 6.8155e-04\n",
      "Epoch 48/100\n",
      "20/20 [==============================] - 7s 332ms/step - loss: 5.8567e-04 - val_loss: 7.0004e-04\n",
      "Epoch 49/100\n",
      "20/20 [==============================] - 7s 335ms/step - loss: 5.4373e-04 - val_loss: 5.4566e-04\n",
      "Epoch 50/100\n",
      "20/20 [==============================] - 7s 335ms/step - loss: 5.6043e-04 - val_loss: 6.1932e-04\n",
      "Epoch 51/100\n",
      "20/20 [==============================] - 7s 332ms/step - loss: 5.1633e-04 - val_loss: 5.1531e-04\n",
      "Epoch 52/100\n",
      "20/20 [==============================] - 7s 337ms/step - loss: 7.6380e-04 - val_loss: 6.1203e-04\n",
      "Epoch 53/100\n",
      "20/20 [==============================] - 7s 337ms/step - loss: 4.9643e-04 - val_loss: 4.6116e-04\n",
      "Epoch 54/100\n",
      "20/20 [==============================] - 7s 340ms/step - loss: 5.0260e-04 - val_loss: 6.4505e-04\n",
      "Epoch 55/100\n",
      "20/20 [==============================] - 7s 343ms/step - loss: 5.8335e-04 - val_loss: 5.1838e-04\n",
      "Epoch 56/100\n",
      "20/20 [==============================] - 7s 374ms/step - loss: 5.0716e-04 - val_loss: 6.3133e-04\n",
      "Epoch 57/100\n",
      "20/20 [==============================] - 7s 350ms/step - loss: 4.7402e-04 - val_loss: 6.0224e-04\n",
      "Epoch 58/100\n",
      "20/20 [==============================] - 7s 354ms/step - loss: 4.5551e-04 - val_loss: 3.8750e-04\n",
      "Epoch 59/100\n",
      "20/20 [==============================] - 7s 351ms/step - loss: 4.4739e-04 - val_loss: 4.4966e-04\n",
      "Epoch 60/100\n",
      "20/20 [==============================] - 7s 353ms/step - loss: 4.2286e-04 - val_loss: 5.1244e-04\n",
      "Epoch 61/100\n",
      "20/20 [==============================] - 7s 351ms/step - loss: 4.2958e-04 - val_loss: 3.6216e-04\n",
      "Epoch 62/100\n",
      "20/20 [==============================] - 7s 353ms/step - loss: 4.2933e-04 - val_loss: 5.0703e-04\n",
      "Epoch 63/100\n",
      "20/20 [==============================] - 7s 359ms/step - loss: 4.1873e-04 - val_loss: 4.7943e-04\n",
      "Epoch 64/100\n",
      "20/20 [==============================] - 7s 356ms/step - loss: 5.1314e-04 - val_loss: 3.8349e-04\n",
      "Epoch 65/100\n",
      "20/20 [==============================] - 7s 350ms/step - loss: 4.8125e-04 - val_loss: 3.5439e-04\n",
      "Epoch 66/100\n",
      "20/20 [==============================] - 7s 348ms/step - loss: 4.2324e-04 - val_loss: 3.3243e-04\n",
      "Epoch 67/100\n",
      "20/20 [==============================] - 7s 349ms/step - loss: 3.9224e-04 - val_loss: 3.2289e-04\n",
      "Epoch 68/100\n",
      "20/20 [==============================] - 7s 353ms/step - loss: 4.1258e-04 - val_loss: 3.2922e-04\n",
      "Epoch 69/100\n",
      "20/20 [==============================] - 7s 348ms/step - loss: 4.1916e-04 - val_loss: 3.6559e-04\n",
      "Epoch 70/100\n",
      "20/20 [==============================] - 7s 335ms/step - loss: 3.5775e-04 - val_loss: 4.6817e-04\n",
      "Epoch 71/100\n",
      "20/20 [==============================] - 7s 344ms/step - loss: 3.7609e-04 - val_loss: 3.5639e-04\n",
      "Epoch 72/100\n",
      "20/20 [==============================] - 7s 347ms/step - loss: 3.6502e-04 - val_loss: 2.8021e-04\n",
      "Epoch 73/100\n",
      "20/20 [==============================] - 7s 344ms/step - loss: 3.4668e-04 - val_loss: 3.6928e-04\n",
      "Epoch 74/100\n",
      "20/20 [==============================] - 7s 345ms/step - loss: 3.7490e-04 - val_loss: 4.3167e-04\n",
      "Epoch 75/100\n",
      "20/20 [==============================] - 7s 342ms/step - loss: 5.4068e-04 - val_loss: 2.8386e-04\n",
      "Epoch 76/100\n"
     ]
    },
    {
     "name": "stdout",
     "output_type": "stream",
     "text": [
      "20/20 [==============================] - 7s 346ms/step - loss: 3.3915e-04 - val_loss: 3.1354e-04\n",
      "Epoch 77/100\n",
      "20/20 [==============================] - 7s 330ms/step - loss: 2.9975e-04 - val_loss: 2.5432e-04\n",
      "Epoch 78/100\n",
      "20/20 [==============================] - 7s 335ms/step - loss: 3.1974e-04 - val_loss: 3.1466e-04\n",
      "Epoch 79/100\n",
      "20/20 [==============================] - 7s 333ms/step - loss: 3.0018e-04 - val_loss: 3.9777e-04\n",
      "Epoch 80/100\n",
      "20/20 [==============================] - 7s 328ms/step - loss: 4.4476e-04 - val_loss: 2.8037e-04\n",
      "Epoch 81/100\n",
      "20/20 [==============================] - 6s 328ms/step - loss: 3.0464e-04 - val_loss: 2.9165e-04\n",
      "Epoch 82/100\n",
      "20/20 [==============================] - 7s 329ms/step - loss: 2.9738e-04 - val_loss: 2.6445e-04\n",
      "Epoch 83/100\n",
      "20/20 [==============================] - 7s 330ms/step - loss: 3.1240e-04 - val_loss: 2.6086e-04\n",
      "Epoch 84/100\n",
      "20/20 [==============================] - 7s 330ms/step - loss: 3.2008e-04 - val_loss: 3.4758e-04\n",
      "Epoch 85/100\n",
      "20/20 [==============================] - 6s 296ms/step - loss: 3.0661e-04 - val_loss: 2.2196e-04\n",
      "Epoch 86/100\n",
      "20/20 [==============================] - 6s 306ms/step - loss: 2.8758e-04 - val_loss: 2.8708e-04\n",
      "Epoch 87/100\n",
      "20/20 [==============================] - 7s 331ms/step - loss: 2.6506e-04 - val_loss: 2.1579e-04\n",
      "Epoch 88/100\n",
      "20/20 [==============================] - 7s 329ms/step - loss: 2.8899e-04 - val_loss: 2.8308e-04\n",
      "Epoch 89/100\n",
      "20/20 [==============================] - 7s 332ms/step - loss: 2.4849e-04 - val_loss: 3.0826e-04\n",
      "Epoch 90/100\n",
      "20/20 [==============================] - 7s 329ms/step - loss: 2.7781e-04 - val_loss: 3.4815e-04\n",
      "Epoch 91/100\n",
      "20/20 [==============================] - 7s 330ms/step - loss: 3.8783e-04 - val_loss: 2.4223e-04\n",
      "Epoch 92/100\n",
      "20/20 [==============================] - 7s 328ms/step - loss: 3.0066e-04 - val_loss: 2.1011e-04\n",
      "Epoch 93/100\n",
      "20/20 [==============================] - 6s 326ms/step - loss: 2.5091e-04 - val_loss: 2.5386e-04\n",
      "Epoch 94/100\n",
      "20/20 [==============================] - 7s 329ms/step - loss: 2.9887e-04 - val_loss: 2.7700e-04\n",
      "Epoch 95/100\n",
      "20/20 [==============================] - 7s 329ms/step - loss: 2.5716e-04 - val_loss: 2.3722e-04\n",
      "Epoch 96/100\n",
      "20/20 [==============================] - 6s 327ms/step - loss: 2.3728e-04 - val_loss: 2.4746e-04\n",
      "Epoch 97/100\n",
      "20/20 [==============================] - 6s 328ms/step - loss: 2.3930e-04 - val_loss: 2.0904e-04\n",
      "Epoch 98/100\n",
      "20/20 [==============================] - 7s 330ms/step - loss: 2.4716e-04 - val_loss: 1.9335e-04\n",
      "Epoch 99/100\n",
      "20/20 [==============================] - 7s 335ms/step - loss: 3.1195e-04 - val_loss: 2.6229e-04\n",
      "Epoch 100/100\n",
      "20/20 [==============================] - 7s 329ms/step - loss: 2.6813e-04 - val_loss: 3.0321e-04\n"
     ]
    },
    {
     "data": {
      "text/plain": [
       "<keras.callbacks.History at 0x271da7dcc40>"
      ]
     },
     "execution_count": 22,
     "metadata": {},
     "output_type": "execute_result"
    }
   ],
   "source": [
    "model.fit(X_train,y_train,validation_data=(X_test,ytest),epochs=100,batch_size=64,verbose=1)"
   ]
  },
  {
   "cell_type": "code",
   "execution_count": 23,
   "id": "374ce7d0",
   "metadata": {},
   "outputs": [
    {
     "name": "stdout",
     "output_type": "stream",
     "text": [
      "39/39 [==============================] - 7s 61ms/step\n",
      "20/20 [==============================] - 1s 60ms/step\n"
     ]
    }
   ],
   "source": [
    "#Lets Do the prediction and check Performance Metrics\n",
    "train_predict=model.predict(X_train)\n",
    "test_predict=model.predict(X_test)"
   ]
  },
  {
   "cell_type": "code",
   "execution_count": 24,
   "id": "fe6161eb",
   "metadata": {},
   "outputs": [],
   "source": [
    "#Transform back to original form\n",
    "train_predict=scaler.inverse_transform(train_predict)\n",
    "test_predict=scaler.inverse_transform(test_predict)"
   ]
  },
  {
   "cell_type": "code",
   "execution_count": 25,
   "id": "c8f9462f",
   "metadata": {},
   "outputs": [
    {
     "data": {
      "text/plain": [
       "168.5592334534775"
      ]
     },
     "execution_count": 25,
     "metadata": {},
     "output_type": "execute_result"
    }
   ],
   "source": [
    "# Calculate RMSE performance metrics\n",
    "import math\n",
    "from sklearn.metrics import mean_squared_error\n",
    "math.sqrt(mean_squared_error(y_train,train_predict))"
   ]
  },
  {
   "cell_type": "code",
   "execution_count": 26,
   "id": "2239e918",
   "metadata": {},
   "outputs": [
    {
     "data": {
      "text/plain": [
       "117.42297771334316"
      ]
     },
     "execution_count": 26,
     "metadata": {},
     "output_type": "execute_result"
    }
   ],
   "source": [
    "#Test Data RMSE\n",
    "math.sqrt(mean_squared_error(ytest,test_predict))"
   ]
  },
  {
   "cell_type": "code",
   "execution_count": 27,
   "id": "38f3fb0a",
   "metadata": {},
   "outputs": [
    {
     "data": {
      "image/png": "[encoded data removed]",
      "text/plain": [
       "<Figure size 1080x432 with 1 Axes>"
      ]
     },
     "metadata": {
      "needs_background": "light"
     },
     "output_type": "display_data"
    }
   ],
   "source": [
    "#Plotting Data\n",
    "# shift train predictions for plotting\n",
    "look_back=100\n",
    "trainPredictPlot = numpy.empty_like(df1)\n",
    "trainPredictPlot[:, :] = np.nan\n",
    "trainPredictPlot[look_back:len(train_predict)+look_back, :] = train_predict\n",
    "# shift test predictions for plotting\n",
    "testPredictPlot = numpy.empty_like(df1)\n",
    "testPredictPlot[:, :] = numpy.nan\n",
    "testPredictPlot[len(train_predict)+(look_back*2)+1:len(df1)-1, :] = test_predict\n",
    "# plot baseline and predictions\n",
    "plt.figure(figsize=(15,6))\n",
    "plt.plot(scaler.inverse_transform(df1), '-b', label='Train Data')\n",
    "plt.plot(trainPredictPlot,'--r', label='Train Predict',linewidth=2.0)\n",
    "plt.plot(testPredictPlot,'g', label='Test Predict', linewidth=2.0)\n",
    "leg = plt.legend();\n",
    "plt.show()"
   ]
  }
 ],
 "metadata": {
  "kernelspec": {
   "display_name": "Python 3 (ipykernel)",
   "language": "python",
   "name": "python3"
  },
  "language_info": {
   "codemirror_mode": {
    "name": "ipython",
    "version": 3
   },
   "file_extension": ".py",
   "mimetype": "text/x-python",
   "name": "python",
   "nbconvert_exporter": "python",
   "pygments_lexer": "ipython3",
   "version": "3.10.2"
  }
 },
 "nbformat": 4,
 "nbformat_minor": 5
}
